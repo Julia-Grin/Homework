{
 "cells": [
  {
   "cell_type": "code",
   "execution_count": 1,
   "id": "5757827a-93f0-4f3d-963d-316156273ad0",
   "metadata": {},
   "outputs": [],
   "source": [
    "import pandas as pd"
   ]
  },
  {
   "cell_type": "code",
   "execution_count": 5,
   "id": "be09fe5c-1cab-46e4-9c68-4d7608a46b19",
   "metadata": {},
   "outputs": [],
   "source": [
    "df = pd.read_csv('../_Аналитик данных/5_Статистика/aa.csv')"
   ]
  },
  {
   "cell_type": "code",
   "execution_count": 6,
   "id": "89c96ac5-6275-4e22-9012-a54389e508b7",
   "metadata": {},
   "outputs": [
    {
     "data": {
      "text/html": [
       "<div>\n",
       "<style scoped>\n",
       "    .dataframe tbody tr th:only-of-type {\n",
       "        vertical-align: middle;\n",
       "    }\n",
       "\n",
       "    .dataframe tbody tr th {\n",
       "        vertical-align: top;\n",
       "    }\n",
       "\n",
       "    .dataframe thead th {\n",
       "        text-align: right;\n",
       "    }\n",
       "</style>\n",
       "<table border=\"1\" class=\"dataframe\">\n",
       "  <thead>\n",
       "    <tr style=\"text-align: right;\">\n",
       "      <th></th>\n",
       "      <th>Unnamed: 0.1</th>\n",
       "      <th>Unnamed: 0</th>\n",
       "      <th>experimentVariant</th>\n",
       "      <th>category</th>\n",
       "      <th>mobileBrandName</th>\n",
       "      <th>version</th>\n",
       "      <th>operatingSystem</th>\n",
       "      <th>region</th>\n",
       "      <th>purchase</th>\n",
       "    </tr>\n",
       "  </thead>\n",
       "  <tbody>\n",
       "    <tr>\n",
       "      <th>0</th>\n",
       "      <td>0</td>\n",
       "      <td>1</td>\n",
       "      <td>0</td>\n",
       "      <td>mobile</td>\n",
       "      <td>Huawei</td>\n",
       "      <td>3.8.2.0</td>\n",
       "      <td>ANDROID</td>\n",
       "      <td>Moscow</td>\n",
       "      <td>0</td>\n",
       "    </tr>\n",
       "    <tr>\n",
       "      <th>1</th>\n",
       "      <td>1</td>\n",
       "      <td>2</td>\n",
       "      <td>0</td>\n",
       "      <td>mobile</td>\n",
       "      <td>NaN</td>\n",
       "      <td>3.8.2.0</td>\n",
       "      <td>ANDROID</td>\n",
       "      <td>Krasnodar Krai</td>\n",
       "      <td>0</td>\n",
       "    </tr>\n",
       "    <tr>\n",
       "      <th>2</th>\n",
       "      <td>2</td>\n",
       "      <td>3</td>\n",
       "      <td>1</td>\n",
       "      <td>tablet</td>\n",
       "      <td>Apple</td>\n",
       "      <td>2.8.0</td>\n",
       "      <td>IOS</td>\n",
       "      <td>Moscow Oblast</td>\n",
       "      <td>0</td>\n",
       "    </tr>\n",
       "    <tr>\n",
       "      <th>3</th>\n",
       "      <td>3</td>\n",
       "      <td>4</td>\n",
       "      <td>1</td>\n",
       "      <td>mobile</td>\n",
       "      <td>Xiaomi</td>\n",
       "      <td>3.8.2.0</td>\n",
       "      <td>ANDROID</td>\n",
       "      <td>Rostov Oblast</td>\n",
       "      <td>0</td>\n",
       "    </tr>\n",
       "    <tr>\n",
       "      <th>4</th>\n",
       "      <td>4</td>\n",
       "      <td>5</td>\n",
       "      <td>1</td>\n",
       "      <td>mobile</td>\n",
       "      <td>Samsung</td>\n",
       "      <td>3.8.2.0</td>\n",
       "      <td>ANDROID</td>\n",
       "      <td>Republic of Tatarstan</td>\n",
       "      <td>0</td>\n",
       "    </tr>\n",
       "    <tr>\n",
       "      <th>...</th>\n",
       "      <td>...</td>\n",
       "      <td>...</td>\n",
       "      <td>...</td>\n",
       "      <td>...</td>\n",
       "      <td>...</td>\n",
       "      <td>...</td>\n",
       "      <td>...</td>\n",
       "      <td>...</td>\n",
       "      <td>...</td>\n",
       "    </tr>\n",
       "    <tr>\n",
       "      <th>368271</th>\n",
       "      <td>368271</td>\n",
       "      <td>368272</td>\n",
       "      <td>0</td>\n",
       "      <td>mobile</td>\n",
       "      <td>Apple</td>\n",
       "      <td>2.8.0</td>\n",
       "      <td>IOS</td>\n",
       "      <td>Moscow</td>\n",
       "      <td>0</td>\n",
       "    </tr>\n",
       "    <tr>\n",
       "      <th>368272</th>\n",
       "      <td>368272</td>\n",
       "      <td>368273</td>\n",
       "      <td>0</td>\n",
       "      <td>mobile</td>\n",
       "      <td>Apple</td>\n",
       "      <td>2.8.0</td>\n",
       "      <td>IOS</td>\n",
       "      <td>Volgograd Oblast</td>\n",
       "      <td>0</td>\n",
       "    </tr>\n",
       "    <tr>\n",
       "      <th>368273</th>\n",
       "      <td>368273</td>\n",
       "      <td>368274</td>\n",
       "      <td>1</td>\n",
       "      <td>mobile</td>\n",
       "      <td>Apple</td>\n",
       "      <td>2.9.0</td>\n",
       "      <td>IOS</td>\n",
       "      <td>Moscow</td>\n",
       "      <td>0</td>\n",
       "    </tr>\n",
       "    <tr>\n",
       "      <th>368274</th>\n",
       "      <td>368274</td>\n",
       "      <td>368275</td>\n",
       "      <td>1</td>\n",
       "      <td>mobile</td>\n",
       "      <td>Apple</td>\n",
       "      <td>2.8.0</td>\n",
       "      <td>IOS</td>\n",
       "      <td>Moscow</td>\n",
       "      <td>0</td>\n",
       "    </tr>\n",
       "    <tr>\n",
       "      <th>368275</th>\n",
       "      <td>368275</td>\n",
       "      <td>368276</td>\n",
       "      <td>1</td>\n",
       "      <td>mobile</td>\n",
       "      <td>Apple</td>\n",
       "      <td>2.8.0</td>\n",
       "      <td>IOS</td>\n",
       "      <td>Voronezh Oblast</td>\n",
       "      <td>0</td>\n",
       "    </tr>\n",
       "  </tbody>\n",
       "</table>\n",
       "<p>368276 rows × 9 columns</p>\n",
       "</div>"
      ],
      "text/plain": [
       "        Unnamed: 0.1  Unnamed: 0  experimentVariant category mobileBrandName  \\\n",
       "0                  0           1                  0   mobile          Huawei   \n",
       "1                  1           2                  0   mobile             NaN   \n",
       "2                  2           3                  1   tablet           Apple   \n",
       "3                  3           4                  1   mobile          Xiaomi   \n",
       "4                  4           5                  1   mobile         Samsung   \n",
       "...              ...         ...                ...      ...             ...   \n",
       "368271        368271      368272                  0   mobile           Apple   \n",
       "368272        368272      368273                  0   mobile           Apple   \n",
       "368273        368273      368274                  1   mobile           Apple   \n",
       "368274        368274      368275                  1   mobile           Apple   \n",
       "368275        368275      368276                  1   mobile           Apple   \n",
       "\n",
       "        version operatingSystem                 region  purchase  \n",
       "0       3.8.2.0         ANDROID                 Moscow         0  \n",
       "1       3.8.2.0         ANDROID         Krasnodar Krai         0  \n",
       "2         2.8.0             IOS          Moscow Oblast         0  \n",
       "3       3.8.2.0         ANDROID          Rostov Oblast         0  \n",
       "4       3.8.2.0         ANDROID  Republic of Tatarstan         0  \n",
       "...         ...             ...                    ...       ...  \n",
       "368271    2.8.0             IOS                 Moscow         0  \n",
       "368272    2.8.0             IOS       Volgograd Oblast         0  \n",
       "368273    2.9.0             IOS                 Moscow         0  \n",
       "368274    2.8.0             IOS                 Moscow         0  \n",
       "368275    2.8.0             IOS        Voronezh Oblast         0  \n",
       "\n",
       "[368276 rows x 9 columns]"
      ]
     },
     "execution_count": 6,
     "metadata": {},
     "output_type": "execute_result"
    }
   ],
   "source": [
    "df"
   ]
  },
  {
   "cell_type": "code",
   "execution_count": 9,
   "id": "035bfff4-015f-46d9-8704-268f3eea298a",
   "metadata": {},
   "outputs": [
    {
     "data": {
      "text/html": [
       "<div>\n",
       "<style scoped>\n",
       "    .dataframe tbody tr th:only-of-type {\n",
       "        vertical-align: middle;\n",
       "    }\n",
       "\n",
       "    .dataframe tbody tr th {\n",
       "        vertical-align: top;\n",
       "    }\n",
       "\n",
       "    .dataframe thead th {\n",
       "        text-align: right;\n",
       "    }\n",
       "</style>\n",
       "<table border=\"1\" class=\"dataframe\">\n",
       "  <thead>\n",
       "    <tr style=\"text-align: right;\">\n",
       "      <th></th>\n",
       "      <th>experimentVariant</th>\n",
       "      <th>operatingSystem</th>\n",
       "      <th>purchase</th>\n",
       "    </tr>\n",
       "  </thead>\n",
       "  <tbody>\n",
       "    <tr>\n",
       "      <th>0</th>\n",
       "      <td>0</td>\n",
       "      <td>ANDROID</td>\n",
       "      <td>0.065903</td>\n",
       "    </tr>\n",
       "    <tr>\n",
       "      <th>1</th>\n",
       "      <td>0</td>\n",
       "      <td>IOS</td>\n",
       "      <td>0.016728</td>\n",
       "    </tr>\n",
       "    <tr>\n",
       "      <th>2</th>\n",
       "      <td>1</td>\n",
       "      <td>ANDROID</td>\n",
       "      <td>0.066633</td>\n",
       "    </tr>\n",
       "    <tr>\n",
       "      <th>3</th>\n",
       "      <td>1</td>\n",
       "      <td>IOS</td>\n",
       "      <td>0.051374</td>\n",
       "    </tr>\n",
       "  </tbody>\n",
       "</table>\n",
       "</div>"
      ],
      "text/plain": [
       "   experimentVariant operatingSystem  purchase\n",
       "0                  0         ANDROID  0.065903\n",
       "1                  0             IOS  0.016728\n",
       "2                  1         ANDROID  0.066633\n",
       "3                  1             IOS  0.051374"
      ]
     },
     "execution_count": 9,
     "metadata": {},
     "output_type": "execute_result"
    }
   ],
   "source": [
    "df.groupby(['experimentVariant', 'operatingSystem'], as_index = False).agg({'purchase': 'mean'})"
   ]
  },
  {
   "cell_type": "markdown",
   "id": "79f15f3d-db9c-4a22-b28d-bd815db9398e",
   "metadata": {},
   "source": [
    "Большие различия на системе IOS"
   ]
  },
  {
   "cell_type": "code",
   "execution_count": 7,
   "id": "f69688ae-2c7b-4809-bbf8-419cfe57977e",
   "metadata": {},
   "outputs": [],
   "source": [
    "df_0 = df.query('experimentVariant == 0')\n",
    "df_1 = df.query('experimentVariant == 1')"
   ]
  },
  {
   "cell_type": "code",
   "execution_count": 8,
   "id": "c2ab8c32-c2d2-43f2-8a6b-29d57a12558a",
   "metadata": {},
   "outputs": [],
   "source": [
    "df_0_ios = df_0.query('operatingSystem == \"IOS\"')\n",
    "df_1_ios = df_1.query('operatingSystem == \"IOS\"')"
   ]
  },
  {
   "cell_type": "markdown",
   "id": "ad87e361-c14b-4ea7-abef-3f11968b587a",
   "metadata": {},
   "source": [
    "Посмотрим разницу между устройствами"
   ]
  },
  {
   "cell_type": "code",
   "execution_count": 10,
   "id": "dd5249b1-27f2-4eaf-9202-c9d7c5f6fee7",
   "metadata": {},
   "outputs": [
    {
     "data": {
      "text/html": [
       "<div>\n",
       "<style scoped>\n",
       "    .dataframe tbody tr th:only-of-type {\n",
       "        vertical-align: middle;\n",
       "    }\n",
       "\n",
       "    .dataframe tbody tr th {\n",
       "        vertical-align: top;\n",
       "    }\n",
       "\n",
       "    .dataframe thead th {\n",
       "        text-align: right;\n",
       "    }\n",
       "</style>\n",
       "<table border=\"1\" class=\"dataframe\">\n",
       "  <thead>\n",
       "    <tr style=\"text-align: right;\">\n",
       "      <th></th>\n",
       "      <th>category</th>\n",
       "      <th>purchase</th>\n",
       "    </tr>\n",
       "  </thead>\n",
       "  <tbody>\n",
       "    <tr>\n",
       "      <th>0</th>\n",
       "      <td>mobile</td>\n",
       "      <td>0.016728</td>\n",
       "    </tr>\n",
       "    <tr>\n",
       "      <th>1</th>\n",
       "      <td>tablet</td>\n",
       "      <td>0.016667</td>\n",
       "    </tr>\n",
       "  </tbody>\n",
       "</table>\n",
       "</div>"
      ],
      "text/plain": [
       "  category  purchase\n",
       "0   mobile  0.016728\n",
       "1   tablet  0.016667"
      ]
     },
     "execution_count": 10,
     "metadata": {},
     "output_type": "execute_result"
    }
   ],
   "source": [
    "df_0_ios.groupby(['category'], as_index = False).agg({'purchase': 'mean'})"
   ]
  },
  {
   "cell_type": "code",
   "execution_count": 13,
   "id": "9b57fb6b-f85e-4dca-9d49-9dd018486467",
   "metadata": {},
   "outputs": [
    {
     "data": {
      "text/html": [
       "<div>\n",
       "<style scoped>\n",
       "    .dataframe tbody tr th:only-of-type {\n",
       "        vertical-align: middle;\n",
       "    }\n",
       "\n",
       "    .dataframe tbody tr th {\n",
       "        vertical-align: top;\n",
       "    }\n",
       "\n",
       "    .dataframe thead th {\n",
       "        text-align: right;\n",
       "    }\n",
       "</style>\n",
       "<table border=\"1\" class=\"dataframe\">\n",
       "  <thead>\n",
       "    <tr style=\"text-align: right;\">\n",
       "      <th></th>\n",
       "      <th>category</th>\n",
       "      <th>purchase</th>\n",
       "    </tr>\n",
       "  </thead>\n",
       "  <tbody>\n",
       "    <tr>\n",
       "      <th>0</th>\n",
       "      <td>mobile</td>\n",
       "      <td>0.051327</td>\n",
       "    </tr>\n",
       "    <tr>\n",
       "      <th>1</th>\n",
       "      <td>tablet</td>\n",
       "      <td>0.066667</td>\n",
       "    </tr>\n",
       "  </tbody>\n",
       "</table>\n",
       "</div>"
      ],
      "text/plain": [
       "  category  purchase\n",
       "0   mobile  0.051327\n",
       "1   tablet  0.066667"
      ]
     },
     "execution_count": 13,
     "metadata": {},
     "output_type": "execute_result"
    }
   ],
   "source": [
    "df_1_ios.groupby(['category'], as_index = False).agg({'purchase': 'mean'})"
   ]
  },
  {
   "cell_type": "markdown",
   "id": "22499cd1-2ddd-425c-a694-d3ff2d16e73a",
   "metadata": {},
   "source": [
    "Посмотрим разницу между версиями"
   ]
  },
  {
   "cell_type": "code",
   "execution_count": 12,
   "id": "496274ad-190c-4b38-aa85-411dd5f4690c",
   "metadata": {},
   "outputs": [
    {
     "data": {
      "text/html": [
       "<div>\n",
       "<style scoped>\n",
       "    .dataframe tbody tr th:only-of-type {\n",
       "        vertical-align: middle;\n",
       "    }\n",
       "\n",
       "    .dataframe tbody tr th {\n",
       "        vertical-align: top;\n",
       "    }\n",
       "\n",
       "    .dataframe thead th {\n",
       "        text-align: right;\n",
       "    }\n",
       "</style>\n",
       "<table border=\"1\" class=\"dataframe\">\n",
       "  <thead>\n",
       "    <tr style=\"text-align: right;\">\n",
       "      <th></th>\n",
       "      <th>version</th>\n",
       "      <th>purchase</th>\n",
       "    </tr>\n",
       "  </thead>\n",
       "  <tbody>\n",
       "    <tr>\n",
       "      <th>0</th>\n",
       "      <td>2.8.0</td>\n",
       "      <td>0.000000</td>\n",
       "    </tr>\n",
       "    <tr>\n",
       "      <th>1</th>\n",
       "      <td>2.9.0</td>\n",
       "      <td>0.074658</td>\n",
       "    </tr>\n",
       "  </tbody>\n",
       "</table>\n",
       "</div>"
      ],
      "text/plain": [
       "  version  purchase\n",
       "0   2.8.0  0.000000\n",
       "1   2.9.0  0.074658"
      ]
     },
     "execution_count": 12,
     "metadata": {},
     "output_type": "execute_result"
    }
   ],
   "source": [
    "df_0_ios.groupby(['version'], as_index = False).agg({'purchase': 'mean'})"
   ]
  },
  {
   "cell_type": "code",
   "execution_count": 15,
   "id": "ebea6231-82a4-4e0f-978f-949c48aa8f08",
   "metadata": {},
   "outputs": [
    {
     "data": {
      "text/html": [
       "<div>\n",
       "<style scoped>\n",
       "    .dataframe tbody tr th:only-of-type {\n",
       "        vertical-align: middle;\n",
       "    }\n",
       "\n",
       "    .dataframe tbody tr th {\n",
       "        vertical-align: top;\n",
       "    }\n",
       "\n",
       "    .dataframe thead th {\n",
       "        text-align: right;\n",
       "    }\n",
       "</style>\n",
       "<table border=\"1\" class=\"dataframe\">\n",
       "  <thead>\n",
       "    <tr style=\"text-align: right;\">\n",
       "      <th></th>\n",
       "      <th>version</th>\n",
       "      <th>purchase</th>\n",
       "    </tr>\n",
       "  </thead>\n",
       "  <tbody>\n",
       "    <tr>\n",
       "      <th>0</th>\n",
       "      <td>2.7.0</td>\n",
       "      <td>0.000000</td>\n",
       "    </tr>\n",
       "    <tr>\n",
       "      <th>1</th>\n",
       "      <td>2.8.0</td>\n",
       "      <td>0.045606</td>\n",
       "    </tr>\n",
       "    <tr>\n",
       "      <th>2</th>\n",
       "      <td>2.9.0</td>\n",
       "      <td>0.071304</td>\n",
       "    </tr>\n",
       "  </tbody>\n",
       "</table>\n",
       "</div>"
      ],
      "text/plain": [
       "  version  purchase\n",
       "0   2.7.0  0.000000\n",
       "1   2.8.0  0.045606\n",
       "2   2.9.0  0.071304"
      ]
     },
     "execution_count": 15,
     "metadata": {},
     "output_type": "execute_result"
    }
   ],
   "source": [
    "df_1_ios.groupby(['version'], as_index = False).agg({'purchase': 'mean'})"
   ]
  },
  {
   "cell_type": "markdown",
   "id": "c90d1b0d-b1ae-494e-b7de-3d1f1dc900c5",
   "metadata": {},
   "source": [
    "Разница для версии 2.8.0 выглядит \"подозрительно\""
   ]
  },
  {
   "cell_type": "code",
   "execution_count": 16,
   "id": "97c1c2b5-b082-4ad3-b90e-32299732b07f",
   "metadata": {},
   "outputs": [],
   "source": [
    "df_280 = df.query('version == \"2.8.0\"')"
   ]
  },
  {
   "cell_type": "code",
   "execution_count": 17,
   "id": "81072ef0-78c0-4f1f-914f-978cc218a813",
   "metadata": {},
   "outputs": [
    {
     "data": {
      "text/html": [
       "<div>\n",
       "<style scoped>\n",
       "    .dataframe tbody tr th:only-of-type {\n",
       "        vertical-align: middle;\n",
       "    }\n",
       "\n",
       "    .dataframe tbody tr th {\n",
       "        vertical-align: top;\n",
       "    }\n",
       "\n",
       "    .dataframe thead th {\n",
       "        text-align: right;\n",
       "    }\n",
       "</style>\n",
       "<table border=\"1\" class=\"dataframe\">\n",
       "  <thead>\n",
       "    <tr style=\"text-align: right;\">\n",
       "      <th>purchase</th>\n",
       "      <th>0</th>\n",
       "      <th>1</th>\n",
       "    </tr>\n",
       "    <tr>\n",
       "      <th>experimentVariant</th>\n",
       "      <th></th>\n",
       "      <th></th>\n",
       "    </tr>\n",
       "  </thead>\n",
       "  <tbody>\n",
       "    <tr>\n",
       "      <th>0</th>\n",
       "      <td>41283</td>\n",
       "      <td>0</td>\n",
       "    </tr>\n",
       "    <tr>\n",
       "      <th>1</th>\n",
       "      <td>39657</td>\n",
       "      <td>1895</td>\n",
       "    </tr>\n",
       "  </tbody>\n",
       "</table>\n",
       "</div>"
      ],
      "text/plain": [
       "purchase               0     1\n",
       "experimentVariant             \n",
       "0                  41283     0\n",
       "1                  39657  1895"
      ]
     },
     "execution_count": 17,
     "metadata": {},
     "output_type": "execute_result"
    }
   ],
   "source": [
    "pd.crosstab(df_280.experimentVariant, df_280.purchase)"
   ]
  },
  {
   "cell_type": "markdown",
   "id": "76ad95a7-ab75-4a86-a497-d7cf95e8895f",
   "metadata": {},
   "source": [
    "**Все purchase со значением 1 на версии ПО 2.8.0 попали в одну группу 1**"
   ]
  },
  {
   "cell_type": "code",
   "execution_count": null,
   "id": "87393a72-c2f0-4ad1-b98c-f9a4f3f5a42b",
   "metadata": {},
   "outputs": [],
   "source": []
  }
 ],
 "metadata": {
  "kernelspec": {
   "display_name": "Python 3 (ipykernel)",
   "language": "python",
   "name": "python3"
  },
  "language_info": {
   "codemirror_mode": {
    "name": "ipython",
    "version": 3
   },
   "file_extension": ".py",
   "mimetype": "text/x-python",
   "name": "python",
   "nbconvert_exporter": "python",
   "pygments_lexer": "ipython3",
   "version": "3.11.5"
  }
 },
 "nbformat": 4,
 "nbformat_minor": 5
}
